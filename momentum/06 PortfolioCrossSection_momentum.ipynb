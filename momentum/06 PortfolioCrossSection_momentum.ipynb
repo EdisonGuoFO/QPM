{
 "cells": [
  {
   "cell_type": "markdown",
   "metadata": {
    "tags": []
   },
   "source": [
    "## PortfolioCrossSection_AG_profit_combi.ipynb\n",
    "\n",
    "Code for the Chicago Booth course on Quantitative Portfolio Management by Ralph S.J. Koijen and Federico Mainardi."
   ]
  },
  {
   "cell_type": "markdown",
   "metadata": {
    "tags": []
   },
   "source": [
    "### Preliminaries\n",
    "\n",
    "This code builds cross-sectional portfolio strategies and produces relevant analytics.\n",
    "- As always, the data can be found in the dropbox folder: https://www.dropbox.com/scl/fo/hrjspow2cpstfnoeqb23v/h?rlkey=j4fohf1s4e6fdy49p7bs71b7l&dl=0.\n",
    "- Please download the file `MasterData_small.parquet`. "
   ]
  },
  {
   "cell_type": "code",
   "execution_count": null,
   "metadata": {
    "tags": []
   },
   "outputs": [],
   "source": [
    "import qpm_download\n",
    "import qpm\n",
    "import pandas as pd\n",
    "import numpy as np\n",
    "import wrds\n",
    "import statsmodels.api as sm\n",
    "\n",
    "import warnings\n",
    "warnings.simplefilter(action='ignore', category=FutureWarning)"
   ]
  },
  {
   "cell_type": "markdown",
   "metadata": {},
   "source": [
    "We now choose whether to import data directly from WRDS (`import_data` = True) or to load data from dropbox (`import_data` = False). If you choose to load data from dropbox, make sure to define the data directoy (`_DATA_DIR`). Also, define a directory where you'd like to store the strategy returns (`_STRATEGY_DIR`). In future versions, we'll use a much larger data set, named `MasterData.parquet` (it is already in dropbox), but the core strategies will be constructed using `MasterData_small.parquet`. "
   ]
  },
  {
   "cell_type": "code",
   "execution_count": null,
   "metadata": {},
   "outputs": [],
   "source": [
    "import_data = False             # <-- Edit this line\n",
    "_DATA_DIR = '../Data'           # <-- Edit this line\n",
    "_STRATEGY_DIR = '../Strategy'   # <-- Edit this line"
   ]
  },
  {
   "cell_type": "markdown",
   "metadata": {},
   "source": [
    "Next, we specify the strategy settings.\n",
    "- First, we select the strategy name. At this point, we have `Value` and `Size`. We'll add more later.\n",
    "- We can sort every month (`Monthly`) or only in June (`June`). As accounting data mostly comes out quarterly or annually, sorting once a year is often sufficient. As most companies have their fiscal year end in December, and we wait six months to make sure the data are available to investors, we sort in June.\n",
    "- We can set `_REMOVE_MICRO_CAPS` to either `False` or `True`. If `True`, then we drop the smallest stocks. \n",
    "- The next two lines select the sample. \n",
    "- The final line selects the number of portfolios. We typically set this to 5 or 10."
   ]
  },
  {
   "cell_type": "code",
   "execution_count": null,
   "metadata": {
    "tags": []
   },
   "outputs": [],
   "source": [
    "_STRATEGY_NAME = 'Momentum'      \n",
    "_SORT_FREQUENCY = 'Monthly'        # Either \"Monthly\" or \"June\"\n",
    "\n",
    "_REMOVE_MICRO_CAPS = False      # Either \"True\" or \"False\"\n",
    "_SAMPLE_START = '2001-01-01'\n",
    "_SAMPLE_END = '2023-07-31'\n",
    "_NUM_PORT = 5"
   ]
  },
  {
   "cell_type": "markdown",
   "metadata": {},
   "source": [
    "### Step 1. Construct Signal"
   ]
  },
  {
   "cell_type": "markdown",
   "metadata": {},
   "source": [
    "Let's first see which variables are available in the data (running the next block requires you to download 'MasterData.parquet'. You can skip this line if you havem't done so):"
   ]
  },
  {
   "cell_type": "code",
   "execution_count": null,
   "metadata": {},
   "outputs": [],
   "source": [
    "qpm.list_variables(data_dir = _DATA_DIR, file_name = 'MasterData.parquet')"
   ]
  },
  {
   "cell_type": "markdown",
   "metadata": {},
   "source": [
    "We will work initially with a smaller data set `MasterData_small.parquet`, which is less demanding in terms of your computer's memory."
   ]
  },
  {
   "cell_type": "code",
   "execution_count": null,
   "metadata": {},
   "outputs": [],
   "source": [
    "qpm.list_variables(data_dir = _DATA_DIR, file_name = 'MasterData_small.parquet')"
   ]
  },
  {
   "cell_type": "markdown",
   "metadata": {},
   "source": [
    "#### Load Data"
   ]
  },
  {
   "cell_type": "markdown",
   "metadata": {},
   "source": [
    "Startegies differ by the signals that they use, and the signals use differ input data. Thus, we first construct the list of fundamentals that we need to load given the strategy that we specified in `_STRATEGY_NAME`. If you change the strategy, then you can change the list of variables you need here."
   ]
  },
  {
   "cell_type": "code",
   "execution_count": null,
   "metadata": {},
   "outputs": [],
   "source": [
    "signal_variables = qpm.return_signal(_STRATEGY_NAME)\n",
    "signal_variables"
   ]
  },
  {
   "cell_type": "markdown",
   "metadata": {},
   "source": [
    "Given the list of fundamentals needed to construct the strategy in `_STRATEGY_NAME`, which is in `signal_variables`, we proceed by loading the relevant data."
   ]
  },
  {
   "cell_type": "code",
   "execution_count": null,
   "metadata": {},
   "outputs": [],
   "source": [
    "if import_data == True:\n",
    "\n",
    "    df_full = qpm_download.cross_section_compact(_SAMPLE_START, _SAMPLE_END, _STRATEGY_NAME, signal_variables)\n",
    "    \n",
    "if import_data == False:\n",
    "    \n",
    "    df_full = qpm.load_data(data_dir = _DATA_DIR, file_name = 'MasterData_small.parquet', variable_list = signal_variables)\n"
   ]
  },
  {
   "cell_type": "markdown",
   "metadata": {
    "tags": []
   },
   "source": [
    "#### Plot Key Variables"
   ]
  },
  {
   "cell_type": "markdown",
   "metadata": {},
   "source": [
    "We first list the columns in our data"
   ]
  },
  {
   "cell_type": "code",
   "execution_count": null,
   "metadata": {},
   "outputs": [],
   "source": [
    "df_full.columns"
   ]
  },
  {
   "cell_type": "markdown",
   "metadata": {},
   "source": [
    "Next, we plot a variable of interest, such as in this case a stock's market capitalization."
   ]
  },
  {
   "cell_type": "code",
   "execution_count": null,
   "metadata": {},
   "outputs": [],
   "source": [
    "qpm.plot_variables(df_full, variable_list = ['me'],  id_type = 'ticker', id_list = ['AAPL', 'AMZN', 'TSLA'],\n",
    "                     start_date = '1999-01-01', end_date = '2023-07-31')"
   ]
  },
  {
   "cell_type": "markdown",
   "metadata": {},
   "source": [
    "#### Construct Signal"
   ]
  },
  {
   "cell_type": "code",
   "execution_count": null,
   "metadata": {},
   "outputs": [],
   "source": [
    "if _STRATEGY_NAME == 'Size':\n",
    "\n",
    "\tdf_full['signal'] = - df_full['me']\n",
    "\t\n",
    "elif _STRATEGY_NAME == 'Value':\n",
    "\n",
    "\tdf_full['signal'] = df_full['be'] / df_full['me']\t\n",
    "\t\t\n",
    "elif _STRATEGY_NAME == 'AssetGrowth':\n",
    "\n",
    "\tdf_full['signal'] = -df_full['at'] / qpm.create_lag(df_full, var_name = 'at', lag = 12)\t\n",
    "\n",
    "elif _STRATEGY_NAME == 'Quality':\n",
    "\n",
    "\t# Signal 1 : Rank low beta\n",
    "\tdf_full['beta_inv'] = -df_full['beta']\n",
    "\tdf_full['signal_1'] = qpm.rank(df_full, var_name = 'beta_inv')\n",
    "\n",
    "\t# Signal 2 : Rank profitability\n",
    "\tdf_full['profitability'] = (df_full['revt'] - df_full['cogs']) / df_full['at']\n",
    "\tdf_full['signal_2'] = qpm.rank(df_full, var_name = 'profitability')\n",
    "\n",
    "\t# Final Signal\n",
    "\tdf_full['signal'] = (df_full['signal_1'] + df_full['signal_2']) / 2\n",
    "\n",
    "elif _STRATEGY_NAME == 'Momentum':\n",
    "\n",
    "\t# Sort data\n",
    "\tdf_full.sort_values(['permno', 'ldate'], ascending = [True, True], inplace = True)      \n",
    "\n",
    "\t# Check that we have 12 observations for a stock\n",
    "\tdf_full['ldate12'] = df_full[['ldate','permno']].groupby('permno')['ldate'].shift(12)\n",
    "\tdf_full['signal'] = (df_full['ldate'] == df_full['ldate12'] + pd.DateOffset(months = 12)).map(lambda x : 0 if x else np.nan)\n",
    "\n",
    "\t# In month t, add the returns from t-1, t-2, ..., t-12. Hence, we skip one month\n",
    "\tfor i in range(1, 11 + 1):\n",
    "\t\t# Create a variable for each lag of the returns\n",
    "\t\tdf_full['daret%d' %(i)] = df_full[['daret', 'permno']].groupby('permno')['daret'].shift(i)\n",
    "\t\t\n",
    "\t\t# Sum the returns over the last year\n",
    "\t\tdf_full['signal'] += df_full['daret%d' %(i)].notnull() * np.log(1 + df_full['daret%d' %(i)]).fillna(0.0)\n",
    "\t\t\n",
    "\t\t# Drop the variable that we created in the previous step\n",
    "\t\tdf_full.drop(columns = ['daret%d' %(i)], inplace = True)    \n",
    "        \n",
    "else:\n",
    "\t\n",
    "\traise Exception('Please provide a valid _STRATEGY_NAME..')  \n",
    "    \n",
    "df_sum = df_full.sort_values(['ldate','ticker'])\t\n",
    "print(df_sum[['ldate','ticker','me','signal','daret']].loc[df_sum['ticker'].isin(['AAPL', 'AMZN', 'TSLA'])].tail(3))    "
   ]
  },
  {
   "cell_type": "markdown",
   "metadata": {},
   "source": [
    "#### Sample Selection"
   ]
  },
  {
   "cell_type": "markdown",
   "metadata": {},
   "source": [
    "We lag the signal by one month and select the relevant sample (i.e., the sample period and whether we include micro caps or not)."
   ]
  },
  {
   "cell_type": "code",
   "execution_count": null,
   "metadata": {},
   "outputs": [],
   "source": [
    "# Lag signal by one period so that the signal value is known at the time of portfolio creation\n",
    "df_full['signal'] = qpm.create_lag(df_full, var_name = 'signal', lag = 1)\n",
    "\n",
    "# Select the relevant sample\n",
    "df = qpm.select_sample(df_full, sample_start = _SAMPLE_START, sample_end = _SAMPLE_END, remove_micro_caps = _REMOVE_MICRO_CAPS)"
   ]
  },
  {
   "cell_type": "markdown",
   "metadata": {},
   "source": [
    "### Step 2. Portfolio Construction"
   ]
  },
  {
   "cell_type": "markdown",
   "metadata": {},
   "source": [
    "Next, we sort the stocks into portfolios:\n",
    "- retP_rank_longonly: Rank-based long-only portfolio\n",
    "- retP_rank_longshort: Rank-based long-short portfolio\n",
    "- retP_vw_P1, ..., retP_vw_P5: The returns on the 5 portfolios sorted by the signal (value or size) and weighted by market capitalization\n",
    "- retF_vw: The return on the factor, which is retP_vw_P5-retP_vw_P1"
   ]
  },
  {
   "cell_type": "code",
   "execution_count": null,
   "metadata": {},
   "outputs": [],
   "source": [
    "df, df_rets = qpm.create_portfolios(df, sort_frequency = _SORT_FREQUENCY, num_port = _NUM_PORT)\n",
    "print(df_rets.tail())"
   ]
  },
  {
   "cell_type": "markdown",
   "metadata": {},
   "source": [
    "### Step 3. Portfolio Analytics"
   ]
  },
  {
   "cell_type": "markdown",
   "metadata": {},
   "source": [
    "We first plot the average returns on the portfolios. Then, we plot the cumulative returns on various strategies. For the long-only strategy, we use the market as a simple benchmark. For the long-short strategies, we use the risk-free rate as a benchmark. Later, we will use regression analysis to properly correct for the factors."
   ]
  },
  {
   "cell_type": "code",
   "execution_count": null,
   "metadata": {},
   "outputs": [],
   "source": [
    "qpm.analyze_strategy(df_rets, analysis_type = 'Performance')"
   ]
  },
  {
   "cell_type": "code",
   "execution_count": null,
   "metadata": {},
   "outputs": [],
   "source": [
    "qpm.analyze_strategy(df_rets, analysis_type = 'Summary')"
   ]
  },
  {
   "cell_type": "code",
   "execution_count": null,
   "metadata": {},
   "outputs": [],
   "source": [
    "qpm.analyze_strategy(df_rets, analysis_type = 'Factor Regression')"
   ]
  },
  {
   "cell_type": "code",
   "execution_count": null,
   "metadata": {},
   "outputs": [],
   "source": [
    "if _REMOVE_MICRO_CAPS:\n",
    "    save_dir = '%s/StrategyReturns_%s_%s_noMicroCaps.csv' %(_STRATEGY_DIR, _STRATEGY_NAME, _SORT_FREQUENCY)\n",
    "else:\n",
    "    save_dir = '%s/StrategyReturns_%s_%s_withMicroCaps.csv' %(_STRATEGY_DIR, _STRATEGY_NAME, _SORT_FREQUENCY)\n",
    "\n",
    "df_rets.to_csv(save_dir)\n",
    "print('Saved Strategy Returns to %s' %(save_dir))"
   ]
  },
  {
   "cell_type": "code",
   "execution_count": null,
   "metadata": {},
   "outputs": [],
   "source": []
  }
 ],
 "metadata": {
  "kernelspec": {
   "display_name": "Python 3 (ipykernel)",
   "language": "python",
   "name": "python3"
  },
  "language_info": {
   "codemirror_mode": {
    "name": "ipython",
    "version": 3
   },
   "file_extension": ".py",
   "mimetype": "text/x-python",
   "name": "python",
   "nbconvert_exporter": "python",
   "pygments_lexer": "ipython3",
   "version": "3.11.5"
  },
  "vscode": {
   "interpreter": {
    "hash": "40d3a090f54c6569ab1632332b64b2c03c39dcf918b08424e98f38b5ae0af88f"
   }
  }
 },
 "nbformat": 4,
 "nbformat_minor": 4
}
