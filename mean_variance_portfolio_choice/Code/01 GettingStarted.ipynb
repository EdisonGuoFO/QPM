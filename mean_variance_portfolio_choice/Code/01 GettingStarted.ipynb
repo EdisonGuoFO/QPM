{
 "cells": [
  {
   "cell_type": "markdown",
   "metadata": {},
   "source": [
    "## GettingStarted.ipynb\n",
    "\n",
    "In this code, we will run basic Python code to make sure Python is properly installed on your device.\n",
    "\n",
    "Code for the Chicago Booth course on Quantitative Portfolio Management by Ralph S.J. Koijen and Federico Mainardi."
   ]
  },
  {
   "cell_type": "markdown",
   "metadata": {},
   "source": [
    "### 1. Importing Packages\n",
    "\n",
    "This notebook tests that your Python installation works. \n",
    "\n",
    "- You can download the data from: https://www.dropbox.com/scl/fo/hrjspow2cpstfnoeqb23v/h?rlkey=j4fohf1s4e6fdy49p7bs71b7l&dl=0.\n",
    "- Please copy the files in the Data folder: `GettingStartedSample.parquet` to a local folder. The ideal file structure is to have one folder `Code` and one folder `Data`. E.g., the folders would be C:/QPM/Data and C:/QPM/Code.\n",
    "\n",
    "Now we're ready to start! The goal is not to understand the code yet (we will by the end of the course); just to see that your Python installation works.\n",
    "\n",
    "Every box that has \"[]:\" in front of it needs to be run. To run it, put your cursor in the box and then push the \"play button\" on top. Alternatively, you can press \"shift+enter\" (or \"shift+return\" on a Mac)."
   ]
  },
  {
   "cell_type": "code",
   "execution_count": 40,
   "metadata": {
    "ExecuteTime": {
     "end_time": "2023-09-29T00:54:17.528121Z",
     "start_time": "2023-09-29T00:54:13.002212Z"
    }
   },
   "outputs": [
    {
     "name": "stdout",
     "output_type": "stream",
     "text": [
      "Requirement already satisfied: matplotlib in /Users/siyuanguo/miniconda3/lib/python3.10/site-packages (3.8.0)\r\n",
      "Requirement already satisfied: python-dateutil>=2.7 in /Users/siyuanguo/miniconda3/lib/python3.10/site-packages (from matplotlib) (2.8.2)\r\n",
      "Requirement already satisfied: contourpy>=1.0.1 in /Users/siyuanguo/miniconda3/lib/python3.10/site-packages (from matplotlib) (1.1.1)\r\n",
      "Requirement already satisfied: cycler>=0.10 in /Users/siyuanguo/miniconda3/lib/python3.10/site-packages (from matplotlib) (0.11.0)\r\n",
      "Requirement already satisfied: pillow>=6.2.0 in /Users/siyuanguo/miniconda3/lib/python3.10/site-packages (from matplotlib) (9.4.0)\r\n",
      "Requirement already satisfied: packaging>=20.0 in /Users/siyuanguo/miniconda3/lib/python3.10/site-packages (from matplotlib) (23.0)\r\n",
      "Requirement already satisfied: pyparsing>=2.3.1 in /Users/siyuanguo/miniconda3/lib/python3.10/site-packages (from matplotlib) (3.1.1)\r\n",
      "Requirement already satisfied: numpy<2,>=1.21 in /Users/siyuanguo/miniconda3/lib/python3.10/site-packages (from matplotlib) (1.26.0)\r\n",
      "Requirement already satisfied: kiwisolver>=1.0.1 in /Users/siyuanguo/miniconda3/lib/python3.10/site-packages (from matplotlib) (1.4.5)\r\n",
      "Requirement already satisfied: fonttools>=4.22.0 in /Users/siyuanguo/miniconda3/lib/python3.10/site-packages (from matplotlib) (4.42.1)\r\n",
      "Requirement already satisfied: six>=1.5 in /Users/siyuanguo/miniconda3/lib/python3.10/site-packages (from python-dateutil>=2.7->matplotlib) (1.16.0)\r\n",
      "Collecting pyarrow\r\n",
      "  Downloading pyarrow-13.0.0-cp310-cp310-macosx_11_0_arm64.whl (23.7 MB)\r\n",
      "\u001B[2K     \u001B[90m━━━━━━━━━━━━━━━━━━━━━━━━━━━━━━━━━━━━━━━━\u001B[0m \u001B[32m23.7/23.7 MB\u001B[0m \u001B[31m52.8 MB/s\u001B[0m eta \u001B[36m0:00:00\u001B[0m00:01\u001B[0m00:01\u001B[0m\r\n",
      "\u001B[?25hRequirement already satisfied: numpy>=1.16.6 in /Users/siyuanguo/miniconda3/lib/python3.10/site-packages (from pyarrow) (1.26.0)\r\n",
      "Installing collected packages: pyarrow\r\n",
      "Successfully installed pyarrow-13.0.0\r\n",
      "Collecting fastparquet\r\n",
      "  Downloading fastparquet-2023.8.0-cp310-cp310-macosx_11_0_arm64.whl (681 kB)\r\n",
      "\u001B[2K     \u001B[90m━━━━━━━━━━━━━━━━━━━━━━━━━━━━━━━━━━━━━━━\u001B[0m \u001B[32m681.7/681.7 kB\u001B[0m \u001B[31m9.1 MB/s\u001B[0m eta \u001B[36m0:00:00\u001B[0m00:01\u001B[0m00:01\u001B[0m\r\n",
      "\u001B[?25hRequirement already satisfied: packaging in /Users/siyuanguo/miniconda3/lib/python3.10/site-packages (from fastparquet) (23.0)\r\n",
      "Collecting fsspec\r\n",
      "  Downloading fsspec-2023.9.2-py3-none-any.whl (173 kB)\r\n",
      "\u001B[2K     \u001B[90m━━━━━━━━━━━━━━━━━━━━━━━━━━━━━━━━━━━━━━\u001B[0m \u001B[32m173.4/173.4 kB\u001B[0m \u001B[31m18.7 MB/s\u001B[0m eta \u001B[36m0:00:00\u001B[0m\r\n",
      "\u001B[?25hRequirement already satisfied: numpy>=1.20.3 in /Users/siyuanguo/miniconda3/lib/python3.10/site-packages (from fastparquet) (1.26.0)\r\n",
      "Collecting cramjam>=2.3\r\n",
      "  Downloading cramjam-2.7.0-cp310-cp310-macosx_10_9_x86_64.macosx_11_0_arm64.macosx_10_9_universal2.whl (3.2 MB)\r\n",
      "\u001B[2K     \u001B[90m━━━━━━━━━━━━━━━━━━━━━━━━━━━━━━━━━━━━━━━━\u001B[0m \u001B[32m3.2/3.2 MB\u001B[0m \u001B[31m22.2 MB/s\u001B[0m eta \u001B[36m0:00:00\u001B[0ma \u001B[36m0:00:01\u001B[0m\r\n",
      "\u001B[?25hRequirement already satisfied: pandas>=1.5.0 in /Users/siyuanguo/miniconda3/lib/python3.10/site-packages (from fastparquet) (2.1.1)\r\n",
      "Requirement already satisfied: python-dateutil>=2.8.2 in /Users/siyuanguo/miniconda3/lib/python3.10/site-packages (from pandas>=1.5.0->fastparquet) (2.8.2)\r\n",
      "Requirement already satisfied: tzdata>=2022.1 in /Users/siyuanguo/miniconda3/lib/python3.10/site-packages (from pandas>=1.5.0->fastparquet) (2023.3)\r\n",
      "Requirement already satisfied: pytz>=2020.1 in /Users/siyuanguo/miniconda3/lib/python3.10/site-packages (from pandas>=1.5.0->fastparquet) (2023.3.post1)\r\n",
      "Requirement already satisfied: six>=1.5 in /Users/siyuanguo/miniconda3/lib/python3.10/site-packages (from python-dateutil>=2.8.2->pandas>=1.5.0->fastparquet) (1.16.0)\r\n",
      "Installing collected packages: fsspec, cramjam, fastparquet\r\n",
      "Successfully installed cramjam-2.7.0 fastparquet-2023.8.0 fsspec-2023.9.2\r\n",
      "Libraries successfully imported..!\n"
     ]
    }
   ],
   "source": [
    "# Load the relevant libraries\n",
    "!pip install matplotlib\n",
    "!pip install pyarrow\n",
    "!pip install fastparquet\n",
    "\n",
    "\n",
    "\n",
    "import pandas as pd \n",
    "import matplotlib.pyplot as plt\n",
    "import wrds\n",
    "\n",
    "print('Libraries successfully imported..!')"
   ]
  },
  {
   "cell_type": "markdown",
   "metadata": {},
   "source": [
    "Before we get started, make sure to enter the path to your directory that contains the data."
   ]
  },
  {
   "cell_type": "code",
   "execution_count": 41,
   "metadata": {
    "ExecuteTime": {
     "end_time": "2023-09-29T00:54:25.508376Z",
     "start_time": "2023-09-29T00:54:25.503355Z"
    }
   },
   "outputs": [],
   "source": [
    "# Modify this line so it points to the path where you stored the data\n",
    "_DATA_DIR = '../Data'      "
   ]
  },
  {
   "cell_type": "markdown",
   "metadata": {},
   "source": [
    "### 2. Loading Data\n",
    "\n",
    "We will use datasets with `.parquet` format, which is an efficient way to compress files. To import `.parquet` files, we use the `read_parquet` function in the `pandas` package."
   ]
  },
  {
   "cell_type": "code",
   "execution_count": 43,
   "metadata": {
    "ExecuteTime": {
     "end_time": "2023-09-29T00:57:19.051072Z",
     "start_time": "2023-09-29T00:57:19.040471Z"
    }
   },
   "outputs": [
    {
     "name": "stdout",
     "output_type": "stream",
     "text": [
      "            permno       prc          comnam\n",
      "date                                        \n",
      "2001-01-01   84788  0.865625  AMAZON COM INC\n",
      "2001-02-01   84788  0.509375  AMAZON COM INC\n",
      "2001-03-01   84788  0.511500  AMAZON COM INC\n",
      "2001-04-01   84788  0.789000  AMAZON COM INC\n",
      "2001-05-01   84788  0.834500  AMAZON COM INC\n",
      "\n",
      "Data successfully loaded!\n"
     ]
    }
   ],
   "source": [
    "\n",
    "df = pd.read_parquet('%s/GettingStartedSample.parquet' %(_DATA_DIR)).set_index('date')\n",
    "print(df.head(5))\n",
    "print('\\nData successfully loaded!')"
   ]
  },
  {
   "cell_type": "markdown",
   "metadata": {},
   "source": [
    "### 3. Plotting Data\n",
    "\n",
    "We will plot the share price of Amazon to make sure we can create figures."
   ]
  },
  {
   "cell_type": "code",
   "execution_count": 44,
   "metadata": {
    "ExecuteTime": {
     "end_time": "2023-09-29T00:57:26.158340Z",
     "start_time": "2023-09-29T00:57:25.855109Z"
    }
   },
   "outputs": [
    {
     "data": {
      "text/plain": "<Figure size 1200x600 with 1 Axes>",
      "image/png": "[encoded data removed]"
     },
     "metadata": {},
     "output_type": "display_data"
    }
   ],
   "source": [
    "fig = plt.figure(figsize = (12, 6))\n",
    "plt.plot(df[['prc']], color = 'maroon', linestyle = '--')\n",
    "plt.show()\n",
    "plt.close()"
   ]
  },
  {
   "cell_type": "markdown",
   "metadata": {},
   "source": [
    "### 4. Downloading data from WRDS"
   ]
  },
  {
   "cell_type": "markdown",
   "metadata": {},
   "source": [
    "Throughout the course, you will be able use data already prepared for you. Alternatively, you may also decide to download and construct datasets directly from WRDS. This choice is advisable for those of you that would like to keep using these scripts in the future. In order to download and construct data directly from WRDS, we proceed in three steps:\n",
    "1. Make sure to have a WRDS account with associated username and password.\n",
    "2. A message will appear in the cell output. This is Python asking for your username and password. Type your username and press Enter. Type your password and press Enter.\n",
    "3. For the third question, you can select `n`.\n",
    "\n",
    "If all is set up well, you will be able to download the data directly."
   ]
  },
  {
   "cell_type": "code",
   "execution_count": 48,
   "metadata": {
    "ExecuteTime": {
     "end_time": "2023-09-29T01:03:04.173026Z",
     "start_time": "2023-09-29T00:59:50.876271Z"
    }
   },
   "outputs": [
    {
     "name": "stdout",
     "output_type": "stream",
     "text": [
      "WRDS recommends setting up a .pgpass file.\n",
      "Created .pgpass file successfully.\n",
      "You can create this file yourself at any time with the create_pgpass_file() function.\n",
      "Loading library list...\n",
      "Done\n",
      "                 prc  cfacshr ticker          comnam\n",
      "date                                                \n",
      "2001-01-31  0.865625     20.0   AMZN  AMAZON COM INC\n",
      "2001-02-28  0.509375     20.0   AMZN  AMAZON COM INC\n",
      "2001-03-30  0.511500     20.0   AMZN  AMAZON COM INC\n",
      "2001-04-30  0.789000     20.0   AMZN  AMAZON COM INC\n",
      "2001-05-31  0.834500     20.0   AMZN  AMAZON COM INC\n",
      "\n",
      "Data successfully downloaded!\n"
     ]
    }
   ],
   "source": [
    "# Establish connection with wrds\n",
    "db = wrds.Connection()  \n",
    "\n",
    "# Select the relevant data\n",
    "df_wrds = db.raw_sql(\"\"\"\n",
    "                        SELECT a.date, a.prc, a.cfacshr, b.ticker, b.comnam\n",
    "                        FROM crsp_m_stock.msf as a \n",
    "                        LEFT JOIN crsp_m_stock.msenames as b\n",
    "                        ON a.permno=b.permno AND b.namedt<=a.date AND a.date<=b.nameendt\n",
    "                        WHERE a.date >= '2001-01-01' AND a.date <= '2023-07-31' AND b.ticker = 'AMZN'\n",
    "                     \"\"\")\n",
    "\n",
    "# Set the date variable as the index\n",
    "df_wrds = df_wrds.set_index('date')\n",
    "\n",
    "# Adjust prices for stock splits and reverse splits\n",
    "df_wrds['prc'] = df_wrds['prc']/df_wrds['cfacshr']\n",
    "\n",
    "print(df_wrds.head(5))\n",
    "print('\\nData successfully downloaded!')"
   ]
  },
  {
   "cell_type": "code",
   "execution_count": null,
   "outputs": [],
   "source": [],
   "metadata": {
    "collapsed": false
   }
  }
 ],
 "metadata": {
  "kernelspec": {
   "display_name": "Python 3 (ipykernel)",
   "language": "python",
   "name": "python3"
  },
  "language_info": {
   "codemirror_mode": {
    "name": "ipython",
    "version": 3
   },
   "file_extension": ".py",
   "mimetype": "text/x-python",
   "name": "python",
   "nbconvert_exporter": "python",
   "pygments_lexer": "ipython3",
   "version": "3.10.10"
  },
  "vscode": {
   "interpreter": {
    "hash": "40d3a090f54c6569ab1632332b64b2c03c39dcf918b08424e98f38b5ae0af88f"
   }
  }
 },
 "nbformat": 4,
 "nbformat_minor": 4
}
