{
 "cells": [
  {
   "cell_type": "markdown",
   "metadata": {},
   "source": [
    "## TimingETFs.ipynb\n",
    "\n",
    "Code for the Chicago Booth course on Quantitative Portfolio Management by Ralph S.J. Koijen and Federico Mainardi."
   ]
  },
  {
   "cell_type": "markdown",
   "metadata": {},
   "source": [
    "### Preliminaries\n",
    "\n",
    "This code builds a sector-rotation strategy based on a momentum signal using ETFs and analyzes its performance.\n",
    "- As always, the data can be found in the dropbox folder: https://www.dropbox.com/scl/fo/hrjspow2cpstfnoeqb23v/h?rlkey=j4fohf1s4e6fdy49p7bs71b7l&dl=0.\n",
    "- Please download the file `ETFData.parquet`. \n",
    "- Make sure that `qpm.py` and `qpm_download.py` are in the same folder. These files are available on Canvas and in the dropbox folder. "
   ]
  },
  {
   "cell_type": "code",
   "execution_count": 1,
   "metadata": {
    "ExecuteTime": {
     "end_time": "2023-11-06T17:48:52.010887Z",
     "start_time": "2023-11-06T17:48:49.290358Z"
    }
   },
   "outputs": [],
   "source": [
    "import qpm\n",
    "import qpm_download\n",
    "import pandas as pd\n",
    "import numpy as np\n",
    "import statsmodels.api as sm\n",
    "import statsmodels.formula.api as smf\n",
    "import matplotlib.pyplot as plt\n",
    "from statsmodels.iolib.summary2 import summary_col"
   ]
  },
  {
   "cell_type": "markdown",
   "metadata": {},
   "source": [
    "Here we specify whether we would like to download the data and the directory in which the data is stored."
   ]
  },
  {
   "cell_type": "code",
   "execution_count": 3,
   "metadata": {
    "ExecuteTime": {
     "end_time": "2023-11-06T17:49:16.235919Z",
     "start_time": "2023-11-06T17:49:16.230264Z"
    }
   },
   "outputs": [],
   "source": [
    "import_data = True\n",
    "_DATA_DIR = '../Data'"
   ]
  },
  {
   "cell_type": "markdown",
   "metadata": {},
   "source": [
    "### Step 1. Load Data\n",
    "\n",
    "We first load the data."
   ]
  },
  {
   "cell_type": "code",
   "execution_count": 9,
   "metadata": {
    "ExecuteTime": {
     "end_time": "2023-11-06T17:54:02.492146Z",
     "start_time": "2023-11-06T17:53:48.709440Z"
    }
   },
   "outputs": [
    {
     "name": "stdout",
     "output_type": "stream",
     "text": [
      "WRDS recommends setting up a .pgpass file.\n",
      "Created .pgpass file successfully.\n",
      "You can create this file yourself at any time with the create_pgpass_file() function.\n",
      "Loading library list...\n",
      "Done\n",
      "Step 1. Import Daily Data\n",
      "Done\n",
      "Step 2. Import Monthly Data\n",
      "Done\n",
      "Step 3. Import Fama-French Factors\n"
     ]
    },
    {
     "data": {
      "text/plain": "        date         ym   permno      retd ticker      retM   mktrf     rf\n0 2003-01-02 2003-01-01  88224.0  0.059287    IYZ -0.047219 -0.0257  0.001\n1 2003-01-03 2003-01-01  88224.0 -0.006934    IYZ -0.047219 -0.0257  0.001\n2 2003-01-06 2003-01-01  88224.0  0.082294    IYZ -0.047219 -0.0257  0.001\n3 2003-01-07 2003-01-01  88224.0 -0.021659    IYZ -0.047219 -0.0257  0.001\n4 2003-01-08 2003-01-01  88224.0 -0.033914    IYZ -0.047219 -0.0257  0.001",
      "text/html": "<div>\n<style scoped>\n    .dataframe tbody tr th:only-of-type {\n        vertical-align: middle;\n    }\n\n    .dataframe tbody tr th {\n        vertical-align: top;\n    }\n\n    .dataframe thead th {\n        text-align: right;\n    }\n</style>\n<table border=\"1\" class=\"dataframe\">\n  <thead>\n    <tr style=\"text-align: right;\">\n      <th></th>\n      <th>date</th>\n      <th>ym</th>\n      <th>permno</th>\n      <th>retd</th>\n      <th>ticker</th>\n      <th>retM</th>\n      <th>mktrf</th>\n      <th>rf</th>\n    </tr>\n  </thead>\n  <tbody>\n    <tr>\n      <th>0</th>\n      <td>2003-01-02</td>\n      <td>2003-01-01</td>\n      <td>88224.0</td>\n      <td>0.059287</td>\n      <td>IYZ</td>\n      <td>-0.047219</td>\n      <td>-0.0257</td>\n      <td>0.001</td>\n    </tr>\n    <tr>\n      <th>1</th>\n      <td>2003-01-03</td>\n      <td>2003-01-01</td>\n      <td>88224.0</td>\n      <td>-0.006934</td>\n      <td>IYZ</td>\n      <td>-0.047219</td>\n      <td>-0.0257</td>\n      <td>0.001</td>\n    </tr>\n    <tr>\n      <th>2</th>\n      <td>2003-01-06</td>\n      <td>2003-01-01</td>\n      <td>88224.0</td>\n      <td>0.082294</td>\n      <td>IYZ</td>\n      <td>-0.047219</td>\n      <td>-0.0257</td>\n      <td>0.001</td>\n    </tr>\n    <tr>\n      <th>3</th>\n      <td>2003-01-07</td>\n      <td>2003-01-01</td>\n      <td>88224.0</td>\n      <td>-0.021659</td>\n      <td>IYZ</td>\n      <td>-0.047219</td>\n      <td>-0.0257</td>\n      <td>0.001</td>\n    </tr>\n    <tr>\n      <th>4</th>\n      <td>2003-01-08</td>\n      <td>2003-01-01</td>\n      <td>88224.0</td>\n      <td>-0.033914</td>\n      <td>IYZ</td>\n      <td>-0.047219</td>\n      <td>-0.0257</td>\n      <td>0.001</td>\n    </tr>\n  </tbody>\n</table>\n</div>"
     },
     "execution_count": 9,
     "metadata": {},
     "output_type": "execute_result"
    }
   ],
   "source": [
    "if import_data == True: \n",
    "    \n",
    "    df = qpm_download.etfs('2003-01-01', '2023-07-31')\n",
    "        \n",
    "if import_data == False:\n",
    "    \n",
    "    # Load the data\n",
    "    df = pd.read_parquet('%s/ETFdata.parquet' %(_DATA_DIR))\n",
    "\n",
    "df.head()"
   ]
  },
  {
   "cell_type": "markdown",
   "metadata": {},
   "source": [
    "We only need monthly excess returns for the strategy. \n",
    "- The first line constructs excess returns. \n",
    "- As the data set is daily, the second line converts it to monthly data. "
   ]
  },
  {
   "cell_type": "code",
   "execution_count": 10,
   "metadata": {
    "ExecuteTime": {
     "end_time": "2023-11-06T17:54:04.379092Z",
     "start_time": "2023-11-06T17:54:04.363587Z"
    }
   },
   "outputs": [
    {
     "data": {
      "text/plain": "           ym ticker      rete\n0  2003-01-01    IYZ -0.048219\n21 2003-01-01    IYW -0.012077\n42 2003-01-01    IYF -0.018739\n63 2003-01-01    IYE -0.021807\n84 2003-01-01    IYK -0.034948",
      "text/html": "<div>\n<style scoped>\n    .dataframe tbody tr th:only-of-type {\n        vertical-align: middle;\n    }\n\n    .dataframe tbody tr th {\n        vertical-align: top;\n    }\n\n    .dataframe thead th {\n        text-align: right;\n    }\n</style>\n<table border=\"1\" class=\"dataframe\">\n  <thead>\n    <tr style=\"text-align: right;\">\n      <th></th>\n      <th>ym</th>\n      <th>ticker</th>\n      <th>rete</th>\n    </tr>\n  </thead>\n  <tbody>\n    <tr>\n      <th>0</th>\n      <td>2003-01-01</td>\n      <td>IYZ</td>\n      <td>-0.048219</td>\n    </tr>\n    <tr>\n      <th>21</th>\n      <td>2003-01-01</td>\n      <td>IYW</td>\n      <td>-0.012077</td>\n    </tr>\n    <tr>\n      <th>42</th>\n      <td>2003-01-01</td>\n      <td>IYF</td>\n      <td>-0.018739</td>\n    </tr>\n    <tr>\n      <th>63</th>\n      <td>2003-01-01</td>\n      <td>IYE</td>\n      <td>-0.021807</td>\n    </tr>\n    <tr>\n      <th>84</th>\n      <td>2003-01-01</td>\n      <td>IYK</td>\n      <td>-0.034948</td>\n    </tr>\n  </tbody>\n</table>\n</div>"
     },
     "execution_count": 10,
     "metadata": {},
     "output_type": "execute_result"
    }
   ],
   "source": [
    "df['rete'] = df['retM'] - df['rf']\n",
    "df = df[['ym', 'ticker', 'rete']].drop_duplicates()\n",
    "df.head()"
   ]
  },
  {
   "cell_type": "markdown",
   "metadata": {},
   "source": [
    "#### Select Tickers and Signals"
   ]
  },
  {
   "cell_type": "markdown",
   "metadata": {},
   "source": [
    "Here you can select the tickers you want. \n",
    "- For now, we will select five iShares sector ETFs as an example: Financials (IYF), Consumer staples (IYK), Technology (IYW), Telecommunications (IYZ), and Energy (IYE)."
   ]
  },
  {
   "cell_type": "code",
   "execution_count": 11,
   "metadata": {
    "ExecuteTime": {
     "end_time": "2023-11-06T17:54:13.708263Z",
     "start_time": "2023-11-06T17:54:13.687909Z"
    }
   },
   "outputs": [
    {
     "data": {
      "text/plain": "            ym ticker      rete\n63  2003-01-01    IYE -0.021807\n162 2003-02-01    IYE  0.020090\n263 2003-03-01    IYE  0.009599\n368 2003-04-01    IYE -0.010589\n473 2003-05-01    IYE  0.106871",
      "text/html": "<div>\n<style scoped>\n    .dataframe tbody tr th:only-of-type {\n        vertical-align: middle;\n    }\n\n    .dataframe tbody tr th {\n        vertical-align: top;\n    }\n\n    .dataframe thead th {\n        text-align: right;\n    }\n</style>\n<table border=\"1\" class=\"dataframe\">\n  <thead>\n    <tr style=\"text-align: right;\">\n      <th></th>\n      <th>ym</th>\n      <th>ticker</th>\n      <th>rete</th>\n    </tr>\n  </thead>\n  <tbody>\n    <tr>\n      <th>63</th>\n      <td>2003-01-01</td>\n      <td>IYE</td>\n      <td>-0.021807</td>\n    </tr>\n    <tr>\n      <th>162</th>\n      <td>2003-02-01</td>\n      <td>IYE</td>\n      <td>0.020090</td>\n    </tr>\n    <tr>\n      <th>263</th>\n      <td>2003-03-01</td>\n      <td>IYE</td>\n      <td>0.009599</td>\n    </tr>\n    <tr>\n      <th>368</th>\n      <td>2003-04-01</td>\n      <td>IYE</td>\n      <td>-0.010589</td>\n    </tr>\n    <tr>\n      <th>473</th>\n      <td>2003-05-01</td>\n      <td>IYE</td>\n      <td>0.106871</td>\n    </tr>\n  </tbody>\n</table>\n</div>"
     },
     "execution_count": 11,
     "metadata": {},
     "output_type": "execute_result"
    }
   ],
   "source": [
    "df = df[df['ticker'].isin(['IYF', 'IYK', 'IYW', 'IYZ', 'IYE'])].sort_values(['ticker', 'ym'])\n",
    "df.head()"
   ]
  },
  {
   "cell_type": "markdown",
   "metadata": {},
   "source": [
    "We need a weighting scheme to combine these ETFs. We build a simple momentum strategy. \n",
    "- The first line creates a column of log returns.\n",
    "- The second line computes the returns over the last 12 months.\n",
    "- The last line skips the most recent month. "
   ]
  },
  {
   "cell_type": "code",
   "execution_count": null,
   "metadata": {},
   "outputs": [],
   "source": [
    "df['LNrete'] = np.log(1 + df['rete'])\n",
    "df['mom'] = df.groupby('ticker')['LNrete'].transform(lambda x : x.rolling(12).sum())\n",
    "df['mom'] = df['mom'] - df['LNrete']\n",
    "df.tail(5)"
   ]
  },
  {
   "cell_type": "markdown",
   "metadata": {},
   "source": [
    "Next, we compute the following weight\n",
    "$$w_{it} = \\frac{\\exp(b*mom_{it})}{\\sum_j \\exp(b*mom_{jt})}. $$\n",
    "\n",
    "where $b$ is a parameter that is set by the user and $mom_it$ is the value of the momentum signal computed above.\n",
    "- By taking the exponential, we make sure that the weight remains positive for all ETFs. \n",
    "- By dividing by $\\sum_j \\exp(b*mom_{jt})$, we make sure that the weights add to 1 across all ETFs in that given month.\n",
    "- The parameter $b$ controls how aggressively we tilt our portfolio. For $b\\simeq 0$, we are close to equal weights; for large values of $b$, we pick the ETF with the most favorable momentum signal. This function is sometimes called the *softmax function* (https://en.wikipedia.org/wiki/Softmax_function).\n",
    "\n",
    "The next block of the code computes the numerator, shifts the signal one period back, and drops observations for which the value of the numerator is not available."
   ]
  },
  {
   "cell_type": "code",
   "execution_count": null,
   "metadata": {},
   "outputs": [],
   "source": [
    "b_param = 10\n",
    "\n",
    "df['mom'] = np.exp(b_param * df['mom'])\n",
    "df['Lmom'] = df.groupby(['ticker'])['mom'].shift(1)\n",
    "df = df.dropna(subset = ['Lmom'])"
   ]
  },
  {
   "cell_type": "markdown",
   "metadata": {},
   "source": [
    "Next, we compute the denominator and the weights."
   ]
  },
  {
   "cell_type": "code",
   "execution_count": null,
   "metadata": {},
   "outputs": [],
   "source": [
    "df['TLmom'] = df.groupby('ym')['Lmom'].transform('sum')\n",
    "df['weight'] = df['Lmom'] / df['TLmom']"
   ]
  },
  {
   "cell_type": "markdown",
   "metadata": {},
   "source": [
    "We are now ready to plot our portfolio weights."
   ]
  },
  {
   "cell_type": "code",
   "execution_count": null,
   "metadata": {},
   "outputs": [],
   "source": [
    "df.sort_values(['ym','ticker'], ascending = [True, True], inplace = True)  \n",
    "\n",
    "# Plot the portfolio weights \n",
    "df.set_index('ym')\n",
    "\n",
    "plt.rcParams['font.size'] = 14\n",
    "fig, ax = plt.subplots(1, 1, figsize = (12, 5))\n",
    "df_pivot = df.pivot(index='ym', columns='ticker', values='weight')\n",
    "df_pivot.plot(ax = ax)\n",
    "\n",
    "plt.xlabel('Date')\n",
    "plt.ylabel('Portfolio weight')\n",
    "plt.legend()\n",
    "plt.show()"
   ]
  },
  {
   "cell_type": "markdown",
   "metadata": {},
   "source": [
    "### Step 2. Portfolio Construction\n",
    "\n",
    "We now compute the portfolio returns (line 1-4). \n",
    "- As a benchmark, we will also compare the performance of this strategy to an equal-weighted strategy (line 5). \n",
    "- We also check (line 6) that the weights sum to 1."
   ]
  },
  {
   "cell_type": "code",
   "execution_count": null,
   "metadata": {},
   "outputs": [],
   "source": [
    "df['wgtd_rete'] = df['weight'] * df['rete']\n",
    "\n",
    "df_rets = {}\n",
    "df_rets['reteP'] = df.groupby('ym')['wgtd_rete'].sum()\n",
    "df_rets['reteEW'] = df.groupby('ym')['rete'].mean()\n",
    "df_rets['check_weights'] = df.groupby('ym')['weight'].sum()\n",
    "df_rets = pd.DataFrame(df_rets)\n",
    "print(df_rets.tail(5))"
   ]
  },
  {
   "cell_type": "markdown",
   "metadata": {},
   "source": [
    "### Step 3. Portfolio Analytics"
   ]
  },
  {
   "cell_type": "markdown",
   "metadata": {},
   "source": [
    "Regress the returns of the sector-rotation strategy on the equal-weighted average of the ETFs:"
   ]
  },
  {
   "cell_type": "code",
   "execution_count": null,
   "metadata": {},
   "outputs": [],
   "source": [
    "results_ETF = smf.ols(formula='reteP ~ reteEW', data=df_rets).fit()\n",
    "print(summary_col(results_ETF,stars=True))"
   ]
  },
  {
   "cell_type": "markdown",
   "metadata": {},
   "source": [
    "Annualized alpha in %:"
   ]
  },
  {
   "cell_type": "code",
   "execution_count": null,
   "metadata": {},
   "outputs": [],
   "source": [
    "print(results_ETF.params['Intercept'] * 1200)"
   ]
  }
 ],
 "metadata": {
  "kernelspec": {
   "display_name": "Python 3 (ipykernel)",
   "language": "python",
   "name": "python3"
  },
  "language_info": {
   "codemirror_mode": {
    "name": "ipython",
    "version": 3
   },
   "file_extension": ".py",
   "mimetype": "text/x-python",
   "name": "python",
   "nbconvert_exporter": "python",
   "pygments_lexer": "ipython3",
   "version": "3.9.7"
  },
  "vscode": {
   "interpreter": {
    "hash": "c6516a4ef78cf12c03d435e6b97af533d2444fc09a437d0e06ab559f05435cc6"
   }
  }
 },
 "nbformat": 4,
 "nbformat_minor": 4
}
