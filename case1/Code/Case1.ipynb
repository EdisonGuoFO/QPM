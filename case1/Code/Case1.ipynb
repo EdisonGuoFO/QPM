{
 "cells": [
  {
   "attachments": {},
   "cell_type": "markdown",
   "metadata": {},
   "source": [
    "## Case 1: Innovating in Active ETFs\n",
    "\n",
    "Download the file `data_case1.csv` from the section `Modules/Week 6`. Make sure that the file is in the same data folder that you typically use for the other codes. \n",
    "\n",
    "The file contains data from May 2013 until July 2023. The first column contains the date, then the 3 Fama and French factors (the excess return on the market, `mktrf`, the size factor, `smb`, and the value factor, `hml`), then the momentum factor (`umd`), followed by 4 ETFs: `chep` from Quantshares, `mom` from Quantshares, `vbr` from Vanguard, and `mtum` from iShares. The ETF returns are in excess of 30-day T-bill rate.\n",
    "\n",
    "The goal of the `chep` ETF is to provide exposure to the value factor, while the goal of `mom` is to provide exposure to the momentum factor. `vbr` is a small-cap value ETF, while the goal of `mtum` is to provide exposure to the momentum factor.\n",
    "\n",
    "The ETFs from Quantshares were discontinued in 2020 and 2021, while those from iShares and Vanguard are still traded and very successful. We first analyze the performance of the different ETFs, and then explore several key strategic questions when introducing ETFs.\n",
    "\n",
    "We start by initializing Python."
   ]
  },
  {
   "cell_type": "code",
   "execution_count": 4,
   "metadata": {
    "ExecuteTime": {
     "end_time": "2023-10-31T00:01:34.785662Z",
     "start_time": "2023-10-31T00:01:34.783330Z"
    }
   },
   "outputs": [],
   "source": [
    "import pandas as pd\n",
    "import numpy as np\n",
    "import statsmodels.formula.api as smf\n",
    "from statsmodels.iolib.summary2 import summary_col"
   ]
  },
  {
   "attachments": {},
   "cell_type": "markdown",
   "metadata": {},
   "source": [
    "We then load the data and print the first couple of lines to understand the structure of the data."
   ]
  },
  {
   "cell_type": "code",
   "execution_count": 6,
   "metadata": {
    "ExecuteTime": {
     "end_time": "2023-10-31T00:04:01.016867Z",
     "start_time": "2023-10-31T00:04:01.000799Z"
    }
   },
   "outputs": [
    {
     "name": "stdout",
     "output_type": "stream",
     "text": [
      "          mktrf     smb     hml     umd      chep       mom       vbr  \\\n",
      "date                                                                    \n",
      "5/31/13  0.0280  0.0170  0.0263 -0.0202  0.046602 -0.024174  0.031136   \n",
      "6/28/13 -0.0120  0.0133  0.0003  0.0052  0.000000 -0.006564 -0.012739   \n",
      "7/31/13  0.0565  0.0187  0.0057  0.0176 -0.007792  0.000853  0.068459   \n",
      "8/30/13 -0.0271  0.0027 -0.0269  0.0002 -0.017577  0.002981 -0.041709   \n",
      "9/30/13  0.0377  0.0288 -0.0122  0.0306 -0.016559  0.040340  0.052976   \n",
      "\n",
      "             mtum  \n",
      "date               \n",
      "5/31/13  0.003086  \n",
      "6/28/13 -0.008329  \n",
      "7/31/13  0.059763  \n",
      "8/30/13 -0.035704  \n",
      "9/30/13  0.030237  \n",
      "          mktrf     smb     hml     umd  chep  mom       vbr      mtum\n",
      "date                                                                  \n",
      "3/31/23  0.0251 -0.0551 -0.0885 -0.0249   NaN  NaN -0.060590  0.000519\n",
      "4/30/23  0.0061 -0.0335 -0.0004  0.0163   NaN  NaN -0.013074  0.020450\n",
      "5/31/23  0.0035  0.0161 -0.0772 -0.0063   NaN  NaN -0.037815 -0.051855\n",
      "6/30/23  0.0646  0.0154 -0.0026 -0.0239   NaN  NaN  0.091005  0.064564\n",
      "7/31/23  0.0321  0.0207  0.0413 -0.0406   NaN  NaN  0.049853  0.012831\n"
     ]
    }
   ],
   "source": [
    "# Load data\n",
    "df = pd.read_csv(\"/Users/siyuanguo/PycharmProjects/QPM/case1/Data/data_case1.csv\", index_col=\"date\")\n",
    "\n",
    "print(df.head())\n",
    "print(df.tail())"
   ]
  },
  {
   "attachments": {},
   "cell_type": "markdown",
   "metadata": {},
   "source": [
    "We first report the summary statistics of the factors and the four ETFs. This code snippet is the same as the one we have used in the volatility-timing code.\n",
    "\n",
    "**Question 1:** Discuss the summary statistics. Based on the summary statistics *alone*, can we conclude that the ETFs achieve their stated goals?"
   ]
  },
  {
   "cell_type": "code",
   "execution_count": 7,
   "metadata": {
    "ExecuteTime": {
     "end_time": "2023-10-31T00:04:20.515920Z",
     "start_time": "2023-10-31T00:04:20.501421Z"
    }
   },
   "outputs": [
    {
     "name": "stdout",
     "output_type": "stream",
     "text": [
      "        mean    std     sr\n",
      "mktrf  0.123  0.153  0.800\n",
      "smb   -0.002  0.091 -0.027\n",
      "hml   -0.022  0.127 -0.175\n",
      "umd    0.010  0.134  0.077\n",
      "chep  -0.060  0.119 -0.504\n",
      "mom    0.006  0.137  0.041\n",
      "vbr    0.103  0.190  0.541\n",
      "mtum   0.117  0.153  0.766\n"
     ]
    }
   ],
   "source": [
    "# Compute summary statistics\n",
    "summary = df.describe().T[['mean', 'std']]\n",
    "\n",
    "# Annualize the mean\n",
    "summary['mean'] = summary['mean'] * 12\n",
    "\n",
    "# Annualize the standard deviation\n",
    "summary['std'] = summary['std'] * np.sqrt(12)\n",
    "\n",
    "# Compute the Sharpe ratio\n",
    "summary['sr'] = summary['mean'] / summary['std']\n",
    "\n",
    "# Print the mean, standard deviation, and Sharpe ratio\n",
    "print(summary.round(3))"
   ]
  },
  {
   "attachments": {},
   "cell_type": "markdown",
   "metadata": {},
   "source": [
    "\n",
    "**Question 2:** Next, we regress the excess returns of each of the ETFs on the excess return on the market, that is, the CAPM regression. Explain the difference in CAPM betas between the Quantshares ETFs (`chep`, `mom`) and those of either Vanguard (`vbr`) or iShares (`mtum`)."
   ]
  },
  {
   "cell_type": "code",
   "execution_count": 8,
   "metadata": {
    "ExecuteTime": {
     "end_time": "2023-10-31T00:07:57.393172Z",
     "start_time": "2023-10-31T00:07:57.368958Z"
    }
   },
   "outputs": [
    {
     "name": "stdout",
     "output_type": "stream",
     "text": [
      "\n",
      "=======================================================\n",
      "                  chep      mom        vbr       mtum  \n",
      "-------------------------------------------------------\n",
      "Intercept      -0.0084** 0.0053     -0.0029   0.0007   \n",
      "               (0.0035)  (0.0038)   (0.0022)  (0.0019) \n",
      "mktrf          0.2975*** -0.4070*** 1.1255*** 0.8875***\n",
      "               (0.0803)  (0.0889)   (0.0477)  (0.0413) \n",
      "R-squared      0.1337    0.1855     0.8218    0.7921   \n",
      "R-squared Adj. 0.1240    0.1766     0.8203    0.7903   \n",
      "=======================================================\n",
      "Standard errors in parentheses.\n",
      "* p<.1, ** p<.05, ***p<.01\n"
     ]
    }
   ],
   "source": [
    "# ETF: CHEP\n",
    "model_chep = smf.ols(formula='chep ~ mktrf', data=df)\n",
    "results_chep = model_chep.fit()\n",
    "\n",
    "# ETF: MOM\n",
    "model_mom = smf.ols(formula='mom ~ mktrf', data=df)\n",
    "results_mom = model_mom.fit()\n",
    "\n",
    "# ETF: VBR\n",
    "model_vbr = smf.ols(formula='vbr ~ mktrf', data=df)\n",
    "results_vbr = model_vbr.fit()\n",
    "\n",
    "# ETF: MTUM\n",
    "model_mtum = smf.ols(formula='mtum ~ mktrf', data=df)\n",
    "results_mtum = model_mtum.fit()\n",
    "\n",
    "# Create the summary table\n",
    "models = [results_chep, results_mom, results_vbr, results_mtum]\n",
    "performance_table = summary_col(models,stars=True)\n",
    "print(performance_table)"
   ]
  },
  {
   "attachments": {},
   "cell_type": "markdown",
   "metadata": {},
   "source": [
    "We now want to explore what happens if we control for size (`smb`), value (`hml`), and momentum (`umd`) in addition to the market factor (`mktrf`). \n",
    "- In Python, if we want to regress $y$ on $x_1$ and $x_2$, $y = a + b_1x_1 + b_2x_2 + e$, then we write `model = smf.ols(formula='y ~ x1 + x2', data=df)`. \n",
    "\n",
    "\n",
    "**Question 3a:** Complete the code below to regress the excess returns of each of the ETFs on the market factor, smb, hml, and the momentum factor. Report the regression table.\n",
    "\n",
    "**Question 3b:** Based on the table, do you conclude that the ETFs are successful in achieving their stated goals? In answering the question, discuss both the estimates of the alphas, the betas, and the R-squared. Discuss the benefits of market- and factor-neutral investing."
   ]
  },
  {
   "cell_type": "code",
   "execution_count": 9,
   "metadata": {
    "ExecuteTime": {
     "end_time": "2023-10-31T00:21:58.093889Z",
     "start_time": "2023-10-31T00:21:58.054372Z"
    }
   },
   "outputs": [
    {
     "name": "stdout",
     "output_type": "stream",
     "text": [
      "\n",
      "=======================================================\n",
      "                  chep       mom       vbr       mtum  \n",
      "-------------------------------------------------------\n",
      "Intercept      -0.0020    -0.0005   -0.0010   -0.0013  \n",
      "               (0.0024)   (0.0022)  (0.0009)  (0.0013) \n",
      "mktrf          0.1179*    -0.0911   1.0257*** 1.0374***\n",
      "               (0.0613)   (0.0561)  (0.0215)  (0.0322) \n",
      "smb            -0.0651    0.0064    0.5059*** -0.0628  \n",
      "               (0.0989)   (0.0845)  (0.0339)  (0.0508) \n",
      "hml            0.6016***  -0.1493*  0.4483*** -0.0531  \n",
      "               (0.0942)   (0.0830)  (0.0243)  (0.0365) \n",
      "umd            -0.3058*** 0.7935*** -0.0139   0.3867***\n",
      "               (0.0800)   (0.0706)  (0.0256)  (0.0385) \n",
      "R-squared      0.6232     0.7586    0.9721    0.9026   \n",
      "R-squared Adj. 0.6057     0.7477    0.9711    0.8993   \n",
      "=======================================================\n",
      "Standard errors in parentheses.\n",
      "* p<.1, ** p<.05, ***p<.01\n"
     ]
    }
   ],
   "source": [
    "model_chep = smf.ols(formula='chep ~ mktrf + smb + hml + umd', data=df).fit()\n",
    "\n",
    "# For the ETF 'mom'\n",
    "model_mom = smf.ols(formula='mom ~ mktrf + smb + hml + umd', data=df).fit()\n",
    "\n",
    "# For the ETF 'vbr'\n",
    "model_vbr = smf.ols(formula='vbr ~ mktrf + smb + hml + umd', data=df).fit()\n",
    "\n",
    "# For the ETF 'mtum'\n",
    "model_mtum = smf.ols(formula='mtum ~ mktrf + smb + hml + umd', data=df).fit()\n",
    "\n",
    "models = [model_chep, model_mom, model_vbr, model_mtum]\n",
    "\n",
    "# Create a performance table using summary_col\n",
    "performance_table = summary_col(models, stars=True)\n",
    "print(performance_table)"
   ]
  },
  {
   "attachments": {},
   "cell_type": "markdown",
   "metadata": {},
   "source": [
    "For the following questions, you can use the material in the case, lecture notes, et cetera\n",
    "\n",
    "**Question 4:** What are some of the benefits of ETFs? And of active ETFs? How would you characterize the competitive landscape?\n",
    "\n",
    "**Question 5:** Why would retail and institutional investors be interested in factor investing? How might each be expected to use QuantShares? What concerns might they have?\n",
    "\n",
    "**Question 6:** How should Karunakaran stage the upcoming launch and future expansion of the QuantShares business in the current environment? How should he address the direct and indirect marketing opportunities? How might FFCM establish and maintain a direct competitive advantage factor-based ETFs?"
   ]
  }
 ],
 "metadata": {
  "kernelspec": {
   "display_name": "base",
   "language": "python",
   "name": "python3"
  },
  "language_info": {
   "codemirror_mode": {
    "name": "ipython",
    "version": 3
   },
   "file_extension": ".py",
   "mimetype": "text/x-python",
   "name": "python",
   "nbconvert_exporter": "python",
   "pygments_lexer": "ipython3",
   "version": "3.11.5"
  },
  "orig_nbformat": 4,
  "vscode": {
   "interpreter": {
    "hash": "c6516a4ef78cf12c03d435e6b97af533d2444fc09a437d0e06ab559f05435cc6"
   }
  }
 },
 "nbformat": 4,
 "nbformat_minor": 2
}
