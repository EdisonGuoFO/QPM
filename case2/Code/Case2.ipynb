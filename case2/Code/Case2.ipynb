{
 "cells": [
  {
   "attachments": {},
   "cell_type": "markdown",
   "metadata": {},
   "source": [
    "## Case 2: Asset Allocation at the Cook County Pension Fund\n",
    "\n",
    "Download the file `case #2.csv` from the section `Modules/Week 8`. Make sure that the file is in the same data folder that you typically use for the other codes. \n",
    "\n",
    "The file contains monthly data from January 1990 to June 2023. The columns are:\n",
    "1. `US_EQ`: Return on the US stock market.\n",
    "2. `DMXUS_EQ`: Return on developed equity markets, excluding the US.\n",
    "3. `10Y_TR`: Return on 10-year Treasury bonds.\n",
    "4. `30Y_TR`: Return on 30-year Treasury bonds.\n",
    "5. `HFRIFWI`: Return on the hedge fund index.\n",
    "6. `TBILL`: Return on -month T-bills.\n",
    "\n",
    "We start by initializing Python."
   ]
  },
  {
   "cell_type": "code",
   "execution_count": 1,
   "metadata": {
    "ExecuteTime": {
     "end_time": "2023-11-14T16:50:10.253032Z",
     "start_time": "2023-11-14T16:50:06.536982Z"
    }
   },
   "outputs": [],
   "source": [
    "import pandas as pd\n",
    "import numpy as np\n",
    "import statsmodels.formula.api as smf\n",
    "from statsmodels.iolib.summary2 import summary_col"
   ]
  },
  {
   "attachments": {},
   "cell_type": "markdown",
   "metadata": {},
   "source": [
    "We then load the data and print the first couple of lines to understand the structure of the data.\n",
    "- Make sure to set the path to your data correctly as in the previous problem sets."
   ]
  },
  {
   "cell_type": "code",
   "execution_count": 2,
   "metadata": {
    "ExecuteTime": {
     "end_time": "2023-11-14T16:50:12.273568Z",
     "start_time": "2023-11-14T16:50:12.225566Z"
    }
   },
   "outputs": [
    {
     "name": "stdout",
     "output_type": "stream",
     "text": [
      "          US_EQ  DMXUS_EQ   10Y_TR   30Y_TR  HFRIFWI   TBILL\n",
      "date                                                        \n",
      "202302 -0.02466  -0.02365 -0.03607 -0.07755  -0.0064  0.0034\n",
      "202303  0.02395   0.03165  0.04802  0.08443  -0.0080  0.0036\n",
      "202304  0.00898   0.01799  0.00689  0.00306   0.0024  0.0035\n",
      "202305  0.00071  -0.00936 -0.01682 -0.04952  -0.0020  0.0036\n",
      "202306  0.06618   0.06077 -0.01373  0.00321   0.0214  0.0040\n"
     ]
    }
   ],
   "source": [
    "# Load data\n",
    "df = pd.read_csv(\"../Data/case #2.csv\", index_col=\"date\")\n",
    "\n",
    "print(df.tail())"
   ]
  },
  {
   "attachments": {},
   "cell_type": "markdown",
   "metadata": {},
   "source": [
    "**Question 1:** \n",
    "- Construct the return on the strategic benchmark for the Cook County Pension Fund. Call the newly constructed variable `ret_sb`. \n",
    "    - The most recent strategic asset allocation (as of June 22) invests 42% to US Equities, 27% to International Equities, and 31% to US Fixed Income, see https://www.cookcountypension.com/assets/1/6/3Q2022_Cook_County_Web_Doc.pdf. \n",
    "    - Hint: You will need to use this information to construct `ret_sb`\n",
    "\n",
    "We use `US_EQ` for US Equities, `DMXUS_EQ` for International Equities, and `10Y_TR` for US Fixed Income. Report the summary statistics on the various investment opportunities and on the strategic benchmark. "
   ]
  },
  {
   "cell_type": "code",
   "execution_count": 4,
   "metadata": {
    "ExecuteTime": {
     "end_time": "2023-11-14T16:59:34.870326Z",
     "start_time": "2023-11-14T16:59:34.854402Z"
    }
   },
   "outputs": [
    {
     "name": "stdout",
     "output_type": "stream",
     "text": [
      "           mean    std\n",
      "US_EQ     0.104  0.153\n",
      "DMXUS_EQ  0.081  0.152\n",
      "10Y_TR    0.059  0.091\n",
      "HFRIFWI   0.113  0.069\n",
      "ret_sb    0.084  0.105\n"
     ]
    }
   ],
   "source": [
    "# Compute the return on the strategy benchmark \n",
    "## Insert you code here\n",
    "\n",
    "# Compute the return on the strategic benchmark\n",
    "df['ret_sb'] = 0.42 * df['US_EQ'] + 0.27 * df['DMXUS_EQ'] + 0.31 * df['10Y_TR']\n",
    "\n",
    "# Compute summary statistics\n",
    "summary = df[['US_EQ','DMXUS_EQ','10Y_TR','HFRIFWI','ret_sb']].describe().T[['mean', 'std']]\n",
    "\n",
    "# Annualize the mean\n",
    "summary['mean'] = summary['mean'] * 12\n",
    "\n",
    "# Annualize the standard deviation\n",
    "summary['std'] = summary['std'] * np.sqrt(12)\n",
    "\n",
    "# Print the mean, standard deviation, and Sharpe ratio\n",
    "print(summary.round(3))"
   ]
  },
  {
   "attachments": {},
   "cell_type": "markdown",
   "metadata": {},
   "source": [
    "**Question 2:** The Cook County Pension Fund is considering an allocation to hedge funds. We analyze the performance of the hedge fund index relative to the strategic benchmark using performance regressions. <br>\n",
    "1. Create two new variables, one for the excess return on the strategic benchmark and one for the excess return on the hedge fund index. To compute excess returns, use the 30-day T-bill return, `TBILL`.<br>\n",
    "2. Compute the alpha of the hedge fund index relative to the strategic benchmark by regressing the excess return on the hedge fund index on the excess return on the strategic benchmark. As in Case #1, you can regress `y` on `x` and summarize the results using the following code:<br>\n",
    "`reg_results = smf.ols(formula='y ~ x', data=df).fit()`<br>\n",
    "`print(summary_col(reg_results, stars=True))`<br>\n",
    "3. Discuss whether it is attractive to add hedge funds to the strategic allocation."
   ]
  },
  {
   "cell_type": "code",
   "execution_count": 5,
   "metadata": {
    "ExecuteTime": {
     "end_time": "2023-11-14T17:03:51.321473Z",
     "start_time": "2023-11-14T17:03:51.310857Z"
    }
   },
   "outputs": [
    {
     "name": "stdout",
     "output_type": "stream",
     "text": [
      "                            OLS Regression Results                            \n",
      "==============================================================================\n",
      "Dep. Variable:          excess_ret_hf   R-squared:                       0.579\n",
      "Model:                            OLS   Adj. R-squared:                  0.578\n",
      "Method:                 Least Squares   F-statistic:                     550.9\n",
      "Date:                Tue, 14 Nov 2023   Prob (F-statistic):           3.16e-77\n",
      "Time:                        11:03:51   Log-Likelihood:                 1187.8\n",
      "No. Observations:                 402   AIC:                            -2372.\n",
      "Df Residuals:                     400   BIC:                            -2364.\n",
      "Df Model:                           1                                         \n",
      "Covariance Type:            nonrobust                                         \n",
      "=================================================================================\n",
      "                    coef    std err          t      P>|t|      [0.025      0.975]\n",
      "---------------------------------------------------------------------------------\n",
      "Intercept         0.0049      0.001      7.752      0.000       0.004       0.006\n",
      "excess_ret_sb     0.4862      0.021     23.472      0.000       0.445       0.527\n",
      "==============================================================================\n",
      "Omnibus:                       32.117   Durbin-Watson:                   1.311\n",
      "Prob(Omnibus):                  0.000   Jarque-Bera (JB):              100.630\n",
      "Skew:                           0.286   Prob(JB):                     1.41e-22\n",
      "Kurtosis:                       5.383   Cond. No.                         32.9\n",
      "==============================================================================\n",
      "\n",
      "Notes:\n",
      "[1] Standard Errors assume that the covariance matrix of the errors is correctly specified.\n"
     ]
    }
   ],
   "source": [
    "# Compute excess returns on the strategic benchmark and on the hedge fund index, relative to the 1-month T-bill rate\n",
    "import statsmodels.formula.api as smf\n",
    "\n",
    "# Calculate excess returns\n",
    "df['excess_ret_sb'] = df['ret_sb'] - df['TBILL']\n",
    "df['excess_ret_hf'] = df['HFRIFWI'] - df['TBILL']\n",
    "\n",
    "# Regression analysis\n",
    "reg_results = smf.ols(formula='excess_ret_hf ~ excess_ret_sb', data=df).fit()\n",
    "print(reg_results.summary())"
   ]
  },
  {
   "attachments": {},
   "cell_type": "markdown",
   "metadata": {},
   "source": [
    "\n",
    "**Question 3:** There has been a lot of discussion about the performance of hedge funds during the last decade. Re-run the performance regression as in the previous question but use the sample from January 2011 to June 2023. <br><br>\n",
    "You can select the sample using the code:<br>\n",
    "`df_short = df.loc['DATE':]`\n",
    "\n",
    "where `'DATE'` is a number in the yyyymm format."
   ]
  },
  {
   "cell_type": "code",
   "execution_count": 6,
   "metadata": {
    "ExecuteTime": {
     "end_time": "2023-11-14T17:10:40.929183Z",
     "start_time": "2023-11-14T17:10:40.924525Z"
    }
   },
   "outputs": [
    {
     "name": "stdout",
     "output_type": "stream",
     "text": [
      "                            OLS Regression Results                            \n",
      "==============================================================================\n",
      "Dep. Variable:          excess_ret_hf   R-squared:                       0.692\n",
      "Model:                            OLS   Adj. R-squared:                  0.690\n",
      "Method:                 Least Squares   F-statistic:                     332.8\n",
      "Date:                Tue, 14 Nov 2023   Prob (F-statistic):           1.07e-39\n",
      "Time:                        11:10:40   Log-Likelihood:                 485.62\n",
      "No. Observations:                 150   AIC:                            -967.2\n",
      "Df Residuals:                     148   BIC:                            -961.2\n",
      "Df Model:                           1                                         \n",
      "Covariance Type:            nonrobust                                         \n",
      "=================================================================================\n",
      "                    coef    std err          t      P>|t|      [0.025      0.975]\n",
      "---------------------------------------------------------------------------------\n",
      "Intercept         0.0002      0.001      0.195      0.845      -0.001       0.002\n",
      "excess_ret_sb     0.4903      0.027     18.242      0.000       0.437       0.543\n",
      "==============================================================================\n",
      "Omnibus:                       36.333   Durbin-Watson:                   1.598\n",
      "Prob(Omnibus):                  0.000   Jarque-Bera (JB):              231.683\n",
      "Skew:                          -0.600   Prob(JB):                     4.91e-51\n",
      "Kurtosis:                       8.969   Cond. No.                         34.4\n",
      "==============================================================================\n",
      "\n",
      "Notes:\n",
      "[1] Standard Errors assume that the covariance matrix of the errors is correctly specified.\n"
     ]
    },
    {
     "name": "stderr",
     "output_type": "stream",
     "text": [
      "/var/folders/54/fh5svs6574d0_v3wny9y75qh0000gn/T/ipykernel_25830/4214916554.py:5: SettingWithCopyWarning: \n",
      "A value is trying to be set on a copy of a slice from a DataFrame.\n",
      "Try using .loc[row_indexer,col_indexer] = value instead\n",
      "\n",
      "See the caveats in the documentation: https://pandas.pydata.org/pandas-docs/stable/user_guide/indexing.html#returning-a-view-versus-a-copy\n",
      "  df_short['excess_ret_sb'] = df_short['ret_sb'] - df_short['TBILL']\n",
      "/var/folders/54/fh5svs6574d0_v3wny9y75qh0000gn/T/ipykernel_25830/4214916554.py:6: SettingWithCopyWarning: \n",
      "A value is trying to be set on a copy of a slice from a DataFrame.\n",
      "Try using .loc[row_indexer,col_indexer] = value instead\n",
      "\n",
      "See the caveats in the documentation: https://pandas.pydata.org/pandas-docs/stable/user_guide/indexing.html#returning-a-view-versus-a-copy\n",
      "  df_short['excess_ret_hf'] = df_short['HFRIFWI'] - df_short['TBILL']\n"
     ]
    }
   ],
   "source": [
    "# Filter the DataFrame for the dates from January 2011 to June 2023\n",
    "df_short = df.loc['201101':'202306']\n",
    "\n",
    "# Calculate excess returns for the shortened DataFrame\n",
    "df_short['excess_ret_sb'] = df_short['ret_sb'] - df_short['TBILL']\n",
    "df_short['excess_ret_hf'] = df_short['HFRIFWI'] - df_short['TBILL']\n",
    "\n",
    "# Perform the regression analysis on the shortened DataFrame\n",
    "reg_results_short = smf.ols(formula='excess_ret_hf ~ excess_ret_sb', data=df_short).fit()\n",
    "print(reg_results_short.summary())\n"
   ]
  },
  {
   "attachments": {},
   "cell_type": "markdown",
   "metadata": {},
   "source": [
    "In the absence of liabilities, the 1-month T-bill rate is typically used as the risk-free rate, for instance in evaluating mutual funds and ETFs. However, long-term investors with liabilities, like pension funds and insurance companies, care about the performance of their assets relative to the performance of their liabilities. For pension funds, the liabilities are typically paid far into the future, and the return on the value of the liabilities is therefore similar to the return on a long-term bond. We will use the return on a 30-year Treasury bond as the return on liabilities. \n",
    "\n",
    "**Question 4:** Compute two new variables: one for the excess return on the strategic benchmark and one for the excess return on the hedge fund index. To compute the excess return, subtract the return on the 30-year bond, `30Y_TR`. Then re-run the performance regression *for the full sample* from January 1990 to June 2023. Discuss the results. Should the Cook County Pension Fund invest capital to hedge funds?\n"
   ]
  },
  {
   "cell_type": "code",
   "execution_count": 7,
   "metadata": {
    "ExecuteTime": {
     "end_time": "2023-11-14T17:21:25.130562Z",
     "start_time": "2023-11-14T17:21:25.119570Z"
    }
   },
   "outputs": [
    {
     "name": "stdout",
     "output_type": "stream",
     "text": [
      "                            OLS Regression Results                            \n",
      "==============================================================================\n",
      "Dep. Variable:          excess_ret_hf   R-squared:                       0.926\n",
      "Model:                            OLS   Adj. R-squared:                  0.926\n",
      "Method:                 Least Squares   F-statistic:                     4998.\n",
      "Date:                Tue, 14 Nov 2023   Prob (F-statistic):          3.87e-228\n",
      "Time:                        11:21:25   Log-Likelihood:                 1001.0\n",
      "No. Observations:                 402   AIC:                            -1998.\n",
      "Df Residuals:                     400   BIC:                            -1990.\n",
      "Df Model:                           1                                         \n",
      "Covariance Type:            nonrobust                                         \n",
      "=================================================================================\n",
      "                    coef    std err          t      P>|t|      [0.025      0.975]\n",
      "---------------------------------------------------------------------------------\n",
      "Intercept         0.0025      0.001      2.457      0.014       0.000       0.004\n",
      "excess_ret_sb     1.0124      0.014     70.694      0.000       0.984       1.041\n",
      "==============================================================================\n",
      "Omnibus:                       12.998   Durbin-Watson:                   1.986\n",
      "Prob(Omnibus):                  0.002   Jarque-Bera (JB):               16.394\n",
      "Skew:                           0.309   Prob(JB):                     0.000276\n",
      "Kurtosis:                       3.773   Cond. No.                         14.3\n",
      "==============================================================================\n",
      "\n",
      "Notes:\n",
      "[1] Standard Errors assume that the covariance matrix of the errors is correctly specified.\n"
     ]
    }
   ],
   "source": [
    "# Assuming df is your full DataFrame from January 1990 to June 2023\n",
    "# Calculate the excess returns\n",
    "df['excess_ret_sb'] = df['ret_sb'] - df['30Y_TR']\n",
    "df['excess_ret_hf'] = df['HFRIFWI'] - df['30Y_TR']\n",
    "\n",
    "# Perform the regression analysis on the full sample\n",
    "reg_results_full = smf.ols(formula='excess_ret_hf ~ excess_ret_sb', data=df).fit()\n",
    "print(reg_results_full.summary())\n"
   ]
  },
  {
   "attachments": {},
   "cell_type": "markdown",
   "metadata": {},
   "source": [
    "For the following questions, you can use the material in the case, lecture notes, et cetera\n",
    "\n",
    "**Question 5.** As many other defined-benefit pension plans, the Cook County Pension Fund is under-funded: The present value of their liabilities significantly exceeds the market value of assets. Discuss what the options are for the fund, and whether the fund should adjust its asset allocation?\n",
    "\n",
    "**Question 6.** Macroeconomic conditions have changed significantly during the last three decades. A key development is the decline in interest rates since the eighties, as we have seen in class. Should the fund adjust its asset allocation?\n",
    " \n",
    "**Question 7.** During the last year, another key recent development has been the global increase in inflation rates. Discuss whether you think that this could provide yet another challenge for the fund, or whether this could instead alleviate some of the pressures on the fund. \n"
   ]
  }
 ],
 "metadata": {
  "kernelspec": {
   "display_name": "base",
   "language": "python",
   "name": "python3"
  },
  "language_info": {
   "codemirror_mode": {
    "name": "ipython",
    "version": 3
   },
   "file_extension": ".py",
   "mimetype": "text/x-python",
   "name": "python",
   "nbconvert_exporter": "python",
   "pygments_lexer": "ipython3",
   "version": "3.11.5"
  },
  "orig_nbformat": 4,
  "vscode": {
   "interpreter": {
    "hash": "c6516a4ef78cf12c03d435e6b97af533d2444fc09a437d0e06ab559f05435cc6"
   }
  }
 },
 "nbformat": 4,
 "nbformat_minor": 2
}
